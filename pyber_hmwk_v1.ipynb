{
 "cells": [
  {
   "cell_type": "code",
   "execution_count": 57,
   "metadata": {},
   "outputs": [
    {
     "data": {
      "text/html": [
       "<div>\n",
       "<style scoped>\n",
       "    .dataframe tbody tr th:only-of-type {\n",
       "        vertical-align: middle;\n",
       "    }\n",
       "\n",
       "    .dataframe tbody tr th {\n",
       "        vertical-align: top;\n",
       "    }\n",
       "\n",
       "    .dataframe thead th {\n",
       "        text-align: right;\n",
       "    }\n",
       "</style>\n",
       "<table border=\"1\" class=\"dataframe\">\n",
       "  <thead>\n",
       "    <tr style=\"text-align: right;\">\n",
       "      <th></th>\n",
       "      <th>city</th>\n",
       "      <th>date</th>\n",
       "      <th>fare</th>\n",
       "      <th>ride_id</th>\n",
       "      <th>driver_count</th>\n",
       "      <th>type</th>\n",
       "    </tr>\n",
       "  </thead>\n",
       "  <tbody>\n",
       "    <tr>\n",
       "      <th>0</th>\n",
       "      <td>Lake Jonathanshire</td>\n",
       "      <td>2018-01-14 10:14:22</td>\n",
       "      <td>13.83</td>\n",
       "      <td>5739410935873</td>\n",
       "      <td>5</td>\n",
       "      <td>Urban</td>\n",
       "    </tr>\n",
       "    <tr>\n",
       "      <th>1</th>\n",
       "      <td>Lake Jonathanshire</td>\n",
       "      <td>2018-04-07 20:51:11</td>\n",
       "      <td>31.25</td>\n",
       "      <td>4441251834598</td>\n",
       "      <td>5</td>\n",
       "      <td>Urban</td>\n",
       "    </tr>\n",
       "    <tr>\n",
       "      <th>2</th>\n",
       "      <td>Lake Jonathanshire</td>\n",
       "      <td>2018-03-09 23:45:55</td>\n",
       "      <td>19.89</td>\n",
       "      <td>2389495660448</td>\n",
       "      <td>5</td>\n",
       "      <td>Urban</td>\n",
       "    </tr>\n",
       "    <tr>\n",
       "      <th>3</th>\n",
       "      <td>Lake Jonathanshire</td>\n",
       "      <td>2018-04-07 18:09:21</td>\n",
       "      <td>24.28</td>\n",
       "      <td>7796805191168</td>\n",
       "      <td>5</td>\n",
       "      <td>Urban</td>\n",
       "    </tr>\n",
       "    <tr>\n",
       "      <th>4</th>\n",
       "      <td>Lake Jonathanshire</td>\n",
       "      <td>2018-01-02 14:14:50</td>\n",
       "      <td>13.89</td>\n",
       "      <td>424254840012</td>\n",
       "      <td>5</td>\n",
       "      <td>Urban</td>\n",
       "    </tr>\n",
       "    <tr>\n",
       "      <th>5</th>\n",
       "      <td>Lake Jonathanshire</td>\n",
       "      <td>2018-04-06 11:30:32</td>\n",
       "      <td>16.84</td>\n",
       "      <td>6164453571846</td>\n",
       "      <td>5</td>\n",
       "      <td>Urban</td>\n",
       "    </tr>\n",
       "    <tr>\n",
       "      <th>6</th>\n",
       "      <td>Lake Jonathanshire</td>\n",
       "      <td>2018-03-21 00:18:34</td>\n",
       "      <td>37.95</td>\n",
       "      <td>8353656732934</td>\n",
       "      <td>5</td>\n",
       "      <td>Urban</td>\n",
       "    </tr>\n",
       "    <tr>\n",
       "      <th>7</th>\n",
       "      <td>Lake Jonathanshire</td>\n",
       "      <td>2018-01-28 00:07:00</td>\n",
       "      <td>5.67</td>\n",
       "      <td>9756573174778</td>\n",
       "      <td>5</td>\n",
       "      <td>Urban</td>\n",
       "    </tr>\n",
       "    <tr>\n",
       "      <th>8</th>\n",
       "      <td>Lake Jonathanshire</td>\n",
       "      <td>2018-01-24 12:24:22</td>\n",
       "      <td>34.65</td>\n",
       "      <td>3319117904437</td>\n",
       "      <td>5</td>\n",
       "      <td>Urban</td>\n",
       "    </tr>\n",
       "    <tr>\n",
       "      <th>9</th>\n",
       "      <td>Lake Jonathanshire</td>\n",
       "      <td>2018-03-24 16:27:49</td>\n",
       "      <td>14.94</td>\n",
       "      <td>1670908453476</td>\n",
       "      <td>5</td>\n",
       "      <td>Urban</td>\n",
       "    </tr>\n",
       "    <tr>\n",
       "      <th>10</th>\n",
       "      <td>Lake Jonathanshire</td>\n",
       "      <td>2018-04-11 22:10:30</td>\n",
       "      <td>12.81</td>\n",
       "      <td>5999870428814</td>\n",
       "      <td>5</td>\n",
       "      <td>Urban</td>\n",
       "    </tr>\n",
       "    <tr>\n",
       "      <th>11</th>\n",
       "      <td>Lake Jonathanshire</td>\n",
       "      <td>2018-01-23 21:43:16</td>\n",
       "      <td>21.11</td>\n",
       "      <td>7711472105447</td>\n",
       "      <td>5</td>\n",
       "      <td>Urban</td>\n",
       "    </tr>\n",
       "    <tr>\n",
       "      <th>12</th>\n",
       "      <td>Lake Jonathanshire</td>\n",
       "      <td>2018-01-29 00:19:07</td>\n",
       "      <td>41.05</td>\n",
       "      <td>6649692036139</td>\n",
       "      <td>5</td>\n",
       "      <td>Urban</td>\n",
       "    </tr>\n",
       "    <tr>\n",
       "      <th>13</th>\n",
       "      <td>Lake Jonathanshire</td>\n",
       "      <td>2018-03-22 14:33:32</td>\n",
       "      <td>18.72</td>\n",
       "      <td>4675968803527</td>\n",
       "      <td>5</td>\n",
       "      <td>Urban</td>\n",
       "    </tr>\n",
       "    <tr>\n",
       "      <th>14</th>\n",
       "      <td>Lake Jonathanshire</td>\n",
       "      <td>2018-04-16 20:26:30</td>\n",
       "      <td>32.47</td>\n",
       "      <td>1013873953228</td>\n",
       "      <td>5</td>\n",
       "      <td>Urban</td>\n",
       "    </tr>\n",
       "    <tr>\n",
       "      <th>15</th>\n",
       "      <td>Lake Jonathanshire</td>\n",
       "      <td>2018-04-11 19:49:34</td>\n",
       "      <td>25.92</td>\n",
       "      <td>8533808747676</td>\n",
       "      <td>5</td>\n",
       "      <td>Urban</td>\n",
       "    </tr>\n",
       "    <tr>\n",
       "      <th>16</th>\n",
       "      <td>Lake Jonathanshire</td>\n",
       "      <td>2018-04-09 21:41:30</td>\n",
       "      <td>15.96</td>\n",
       "      <td>577276092645</td>\n",
       "      <td>5</td>\n",
       "      <td>Urban</td>\n",
       "    </tr>\n",
       "    <tr>\n",
       "      <th>17</th>\n",
       "      <td>Lake Jonathanshire</td>\n",
       "      <td>2018-01-16 09:27:03</td>\n",
       "      <td>26.27</td>\n",
       "      <td>3267656258507</td>\n",
       "      <td>5</td>\n",
       "      <td>Urban</td>\n",
       "    </tr>\n",
       "    <tr>\n",
       "      <th>18</th>\n",
       "      <td>Lake Jonathanshire</td>\n",
       "      <td>2018-01-21 12:12:56</td>\n",
       "      <td>37.25</td>\n",
       "      <td>2966536034637</td>\n",
       "      <td>5</td>\n",
       "      <td>Urban</td>\n",
       "    </tr>\n",
       "    <tr>\n",
       "      <th>19</th>\n",
       "      <td>Lake Jonathanshire</td>\n",
       "      <td>2018-04-11 21:32:27</td>\n",
       "      <td>22.48</td>\n",
       "      <td>3505458786874</td>\n",
       "      <td>5</td>\n",
       "      <td>Urban</td>\n",
       "    </tr>\n",
       "    <tr>\n",
       "      <th>20</th>\n",
       "      <td>Lake Jonathanshire</td>\n",
       "      <td>2018-02-16 01:49:45</td>\n",
       "      <td>17.58</td>\n",
       "      <td>3641777572467</td>\n",
       "      <td>5</td>\n",
       "      <td>Urban</td>\n",
       "    </tr>\n",
       "    <tr>\n",
       "      <th>21</th>\n",
       "      <td>Lake Jonathanshire</td>\n",
       "      <td>2018-01-17 13:15:58</td>\n",
       "      <td>28.42</td>\n",
       "      <td>6544222037368</td>\n",
       "      <td>5</td>\n",
       "      <td>Urban</td>\n",
       "    </tr>\n",
       "    <tr>\n",
       "      <th>22</th>\n",
       "      <td>Lake Jonathanshire</td>\n",
       "      <td>2018-01-21 09:48:28</td>\n",
       "      <td>22.36</td>\n",
       "      <td>2522096563712</td>\n",
       "      <td>5</td>\n",
       "      <td>Urban</td>\n",
       "    </tr>\n",
       "    <tr>\n",
       "      <th>23</th>\n",
       "      <td>Lake Jonathanshire</td>\n",
       "      <td>2018-02-23 06:10:30</td>\n",
       "      <td>26.63</td>\n",
       "      <td>5372487991955</td>\n",
       "      <td>5</td>\n",
       "      <td>Urban</td>\n",
       "    </tr>\n",
       "    <tr>\n",
       "      <th>24</th>\n",
       "      <td>South Michelleport</td>\n",
       "      <td>2018-03-04 18:24:09</td>\n",
       "      <td>30.24</td>\n",
       "      <td>2343912425577</td>\n",
       "      <td>72</td>\n",
       "      <td>Urban</td>\n",
       "    </tr>\n",
       "    <tr>\n",
       "      <th>25</th>\n",
       "      <td>South Michelleport</td>\n",
       "      <td>2018-03-02 09:54:50</td>\n",
       "      <td>33.12</td>\n",
       "      <td>813844006721</td>\n",
       "      <td>72</td>\n",
       "      <td>Urban</td>\n",
       "    </tr>\n",
       "    <tr>\n",
       "      <th>26</th>\n",
       "      <td>South Michelleport</td>\n",
       "      <td>2018-01-08 09:38:14</td>\n",
       "      <td>23.77</td>\n",
       "      <td>4916160406018</td>\n",
       "      <td>72</td>\n",
       "      <td>Urban</td>\n",
       "    </tr>\n",
       "    <tr>\n",
       "      <th>27</th>\n",
       "      <td>South Michelleport</td>\n",
       "      <td>2018-04-22 03:15:33</td>\n",
       "      <td>43.62</td>\n",
       "      <td>4663606096929</td>\n",
       "      <td>72</td>\n",
       "      <td>Urban</td>\n",
       "    </tr>\n",
       "    <tr>\n",
       "      <th>28</th>\n",
       "      <td>South Michelleport</td>\n",
       "      <td>2018-03-03 16:13:34</td>\n",
       "      <td>41.62</td>\n",
       "      <td>2339775503972</td>\n",
       "      <td>72</td>\n",
       "      <td>Urban</td>\n",
       "    </tr>\n",
       "    <tr>\n",
       "      <th>29</th>\n",
       "      <td>South Michelleport</td>\n",
       "      <td>2018-01-27 19:38:12</td>\n",
       "      <td>15.45</td>\n",
       "      <td>7465262064048</td>\n",
       "      <td>72</td>\n",
       "      <td>Urban</td>\n",
       "    </tr>\n",
       "  </tbody>\n",
       "</table>\n",
       "</div>"
      ],
      "text/plain": [
       "                  city                 date   fare        ride_id  \\\n",
       "0   Lake Jonathanshire  2018-01-14 10:14:22  13.83  5739410935873   \n",
       "1   Lake Jonathanshire  2018-04-07 20:51:11  31.25  4441251834598   \n",
       "2   Lake Jonathanshire  2018-03-09 23:45:55  19.89  2389495660448   \n",
       "3   Lake Jonathanshire  2018-04-07 18:09:21  24.28  7796805191168   \n",
       "4   Lake Jonathanshire  2018-01-02 14:14:50  13.89   424254840012   \n",
       "5   Lake Jonathanshire  2018-04-06 11:30:32  16.84  6164453571846   \n",
       "6   Lake Jonathanshire  2018-03-21 00:18:34  37.95  8353656732934   \n",
       "7   Lake Jonathanshire  2018-01-28 00:07:00   5.67  9756573174778   \n",
       "8   Lake Jonathanshire  2018-01-24 12:24:22  34.65  3319117904437   \n",
       "9   Lake Jonathanshire  2018-03-24 16:27:49  14.94  1670908453476   \n",
       "10  Lake Jonathanshire  2018-04-11 22:10:30  12.81  5999870428814   \n",
       "11  Lake Jonathanshire  2018-01-23 21:43:16  21.11  7711472105447   \n",
       "12  Lake Jonathanshire  2018-01-29 00:19:07  41.05  6649692036139   \n",
       "13  Lake Jonathanshire  2018-03-22 14:33:32  18.72  4675968803527   \n",
       "14  Lake Jonathanshire  2018-04-16 20:26:30  32.47  1013873953228   \n",
       "15  Lake Jonathanshire  2018-04-11 19:49:34  25.92  8533808747676   \n",
       "16  Lake Jonathanshire  2018-04-09 21:41:30  15.96   577276092645   \n",
       "17  Lake Jonathanshire  2018-01-16 09:27:03  26.27  3267656258507   \n",
       "18  Lake Jonathanshire  2018-01-21 12:12:56  37.25  2966536034637   \n",
       "19  Lake Jonathanshire  2018-04-11 21:32:27  22.48  3505458786874   \n",
       "20  Lake Jonathanshire  2018-02-16 01:49:45  17.58  3641777572467   \n",
       "21  Lake Jonathanshire  2018-01-17 13:15:58  28.42  6544222037368   \n",
       "22  Lake Jonathanshire  2018-01-21 09:48:28  22.36  2522096563712   \n",
       "23  Lake Jonathanshire  2018-02-23 06:10:30  26.63  5372487991955   \n",
       "24  South Michelleport  2018-03-04 18:24:09  30.24  2343912425577   \n",
       "25  South Michelleport  2018-03-02 09:54:50  33.12   813844006721   \n",
       "26  South Michelleport  2018-01-08 09:38:14  23.77  4916160406018   \n",
       "27  South Michelleport  2018-04-22 03:15:33  43.62  4663606096929   \n",
       "28  South Michelleport  2018-03-03 16:13:34  41.62  2339775503972   \n",
       "29  South Michelleport  2018-01-27 19:38:12  15.45  7465262064048   \n",
       "\n",
       "    driver_count   type  \n",
       "0              5  Urban  \n",
       "1              5  Urban  \n",
       "2              5  Urban  \n",
       "3              5  Urban  \n",
       "4              5  Urban  \n",
       "5              5  Urban  \n",
       "6              5  Urban  \n",
       "7              5  Urban  \n",
       "8              5  Urban  \n",
       "9              5  Urban  \n",
       "10             5  Urban  \n",
       "11             5  Urban  \n",
       "12             5  Urban  \n",
       "13             5  Urban  \n",
       "14             5  Urban  \n",
       "15             5  Urban  \n",
       "16             5  Urban  \n",
       "17             5  Urban  \n",
       "18             5  Urban  \n",
       "19             5  Urban  \n",
       "20             5  Urban  \n",
       "21             5  Urban  \n",
       "22             5  Urban  \n",
       "23             5  Urban  \n",
       "24            72  Urban  \n",
       "25            72  Urban  \n",
       "26            72  Urban  \n",
       "27            72  Urban  \n",
       "28            72  Urban  \n",
       "29            72  Urban  "
      ]
     },
     "execution_count": 57,
     "metadata": {},
     "output_type": "execute_result"
    }
   ],
   "source": [
    "%matplotlib inline\n",
    "# Dependencies and Setup\n",
    "import matplotlib.pyplot as plt\n",
    "import pandas as pd\n",
    "import numpy as np\n",
    "\n",
    "# File to Load (Remember to change these)\n",
    "city_data_to_load = \"data/city_data.csv\"\n",
    "ride_data_to_load = \"data/ride_data.csv\"\n",
    "\n",
    "# Read the City and Ride Data\n",
    "city_data_df = pd.read_csv(city_data_to_load)\n",
    "\n",
    "ride_data_df = pd.read_csv(ride_data_to_load)\n",
    "\n",
    "# Combine the data into a single dataset\n",
    "gigecon_df = pd.merge(ride_data_df, city_data_df, on=\"city\")\n",
    "# Display the data table for preview\n",
    "gigecon_df.head(30)\n"
   ]
  },
  {
   "cell_type": "code",
   "execution_count": 64,
   "metadata": {},
   "outputs": [
    {
     "data": {
      "text/plain": [
       "city\n",
       "Amandaburgh           18\n",
       "Barajasview           22\n",
       "Barronchester         16\n",
       "Bethanyland           18\n",
       "Bradshawfurt          10\n",
       "Brandonfort           19\n",
       "Carriemouth           27\n",
       "Christopherfurt       27\n",
       "Colemanland           22\n",
       "Davidfurt             17\n",
       "Deanville             19\n",
       "East Aaronbury         9\n",
       "East Danielview       17\n",
       "East Kaylahaven       29\n",
       "East Kentstad         13\n",
       "East Marymouth        27\n",
       "Erikaland             12\n",
       "Garzaport              3\n",
       "Grahamburgh           25\n",
       "Grayville             15\n",
       "Harringtonfort         6\n",
       "Huntermouth           24\n",
       "Hurleymouth           28\n",
       "Jerryton              25\n",
       "Jessicaport            6\n",
       "Johnton               21\n",
       "Joneschester          25\n",
       "Josephside            27\n",
       "Justinberg            30\n",
       "Karenberg             17\n",
       "Karenside             28\n",
       "Lake Ann              12\n",
       "Lake Danielberg       26\n",
       "Lake Jamie             6\n",
       "Lake Jonathanshire    24\n",
       "Lake Latoyabury       11\n",
       "Lake Omar             14\n",
       "Lake Robertside       25\n",
       "Lake Scott            18\n",
       "Lake Scottton         24\n",
       "Leahton               21\n",
       "Lewishaven            12\n",
       "Lewisland             17\n",
       "Liumouth              33\n",
       "Loganberg             28\n",
       "Martinezhaven         24\n",
       "Mezachester           17\n",
       "Michaelberg           12\n",
       "Myersshire            16\n",
       "New Jacobville        18\n",
       "Name: driver_count, dtype: int64"
      ]
     },
     "execution_count": 64,
     "metadata": {},
     "output_type": "execute_result"
    }
   ],
   "source": [
    "city_groups = gigecon_df.groupby(\"city\")[\"driver_count\"].count()\n",
    "#city_groups(\"[ride_id]\").value_counts\n",
    "city_groups.head(50)"
   ]
  },
  {
   "cell_type": "code",
   "execution_count": 65,
   "metadata": {},
   "outputs": [
    {
     "data": {
      "text/plain": [
       "type\n",
       "Rural        125\n",
       "Suburban     625\n",
       "Urban       1625\n",
       "Name: city, dtype: int64"
      ]
     },
     "execution_count": 65,
     "metadata": {},
     "output_type": "execute_result"
    }
   ],
   "source": [
    "city_groups = gigecon_df.groupby(\"type\")[\"city\"].count()\n",
    "#city_groups(\"[ride_id]\").value_counts\n",
    "city_groups.head(50)"
   ]
  },
  {
   "cell_type": "code",
   "execution_count": 11,
   "metadata": {},
   "outputs": [
    {
     "data": {
      "text/plain": [
       "(2375, 6)"
      ]
     },
     "execution_count": 11,
     "metadata": {},
     "output_type": "execute_result"
    }
   ],
   "source": [
    "gigecon_df.shape"
   ]
  },
  {
   "cell_type": "code",
   "execution_count": 12,
   "metadata": {},
   "outputs": [
    {
     "data": {
      "text/plain": [
       "city             120\n",
       "date            2375\n",
       "fare            1841\n",
       "ride_id         2375\n",
       "driver_count      52\n",
       "type               3\n",
       "dtype: int64"
      ]
     },
     "execution_count": 12,
     "metadata": {},
     "output_type": "execute_result"
    }
   ],
   "source": [
    "gigecon_df.nunique()"
   ]
  },
  {
   "cell_type": "code",
   "execution_count": 30,
   "metadata": {},
   "outputs": [
    {
     "data": {
      "text/plain": [
       "2375"
      ]
     },
     "execution_count": 30,
     "metadata": {},
     "output_type": "execute_result"
    }
   ],
   "source": [
    "ride_count = gigecon_df[\"ride_id\"].count()\n",
    "ride_count"
   ]
  },
  {
   "cell_type": "code",
   "execution_count": 14,
   "metadata": {},
   "outputs": [
    {
     "data": {
      "text/plain": [
       "63538.64"
      ]
     },
     "execution_count": 14,
     "metadata": {},
     "output_type": "execute_result"
    }
   ],
   "source": [
    "total_fare = gigecon_df[\"fare\"].sum()\n",
    "total_fare"
   ]
  },
  {
   "cell_type": "code",
   "execution_count": 15,
   "metadata": {},
   "outputs": [
    {
     "data": {
      "text/plain": [
       "1740"
      ]
     },
     "execution_count": 15,
     "metadata": {},
     "output_type": "execute_result"
    }
   ],
   "source": [
    "gigecon_df[\"driver_count\"].unique().sum()"
   ]
  },
  {
   "cell_type": "code",
   "execution_count": 31,
   "metadata": {},
   "outputs": [
    {
     "data": {
      "text/html": [
       "<div>\n",
       "<style scoped>\n",
       "    .dataframe tbody tr th:only-of-type {\n",
       "        vertical-align: middle;\n",
       "    }\n",
       "\n",
       "    .dataframe tbody tr th {\n",
       "        vertical-align: top;\n",
       "    }\n",
       "\n",
       "    .dataframe thead th {\n",
       "        text-align: right;\n",
       "    }\n",
       "</style>\n",
       "<table border=\"1\" class=\"dataframe\">\n",
       "  <thead>\n",
       "    <tr style=\"text-align: right;\">\n",
       "      <th></th>\n",
       "      <th>Total Count</th>\n",
       "      <th>Percentage of Total Rides</th>\n",
       "    </tr>\n",
       "    <tr>\n",
       "      <th>type</th>\n",
       "      <th></th>\n",
       "      <th></th>\n",
       "    </tr>\n",
       "  </thead>\n",
       "  <tbody>\n",
       "    <tr>\n",
       "      <th>Rural</th>\n",
       "      <td>125</td>\n",
       "      <td>5.263158</td>\n",
       "    </tr>\n",
       "    <tr>\n",
       "      <th>Suburban</th>\n",
       "      <td>625</td>\n",
       "      <td>26.315789</td>\n",
       "    </tr>\n",
       "    <tr>\n",
       "      <th>Urban</th>\n",
       "      <td>1625</td>\n",
       "      <td>68.421053</td>\n",
       "    </tr>\n",
       "  </tbody>\n",
       "</table>\n",
       "</div>"
      ],
      "text/plain": [
       "          Total Count  Percentage of Total Rides\n",
       "type                                            \n",
       "Rural             125                   5.263158\n",
       "Suburban          625                  26.315789\n",
       "Urban            1625                  68.421053"
      ]
     },
     "execution_count": 31,
     "metadata": {},
     "output_type": "execute_result"
    }
   ],
   "source": [
    "ride_type_df = pd.DataFrame(gigecon_df)\n",
    "ride_type_group = ride_type_df.groupby([\"type\"])\n",
    "ride_type_breakdown = pd.DataFrame({\"Total Count\":ride_type_group[\"type\"].count(),\"Percentage of Total Rides\":ride_type_group[\"type\"].count()/ride_count*100})\n",
    "\n",
    "\n",
    "\n",
    "ride_type_breakdown.head()"
   ]
  },
  {
   "cell_type": "code",
   "execution_count": 17,
   "metadata": {},
   "outputs": [],
   "source": [
    "colors = [\"lightcoral\", \"lightskyblue\", \"gold\"]"
   ]
  },
  {
   "cell_type": "markdown",
   "metadata": {},
   "source": [
    "## Bubble Plot of Ride Sharing Data"
   ]
  },
  {
   "cell_type": "code",
   "execution_count": 18,
   "metadata": {},
   "outputs": [],
   "source": [
    "# Obtain the x and y coordinates for each of the three city types\n",
    "urb_x = \n",
    "urb_y =\n",
    "urb_z = \n",
    "\n",
    "urb_x = \n",
    "urb_y =\n",
    "urb_z =\n",
    "\n",
    "urb_x = \n",
    "urb_y =\n",
    "urb_z =\n",
    "\n",
    "# Build the scatter plots for each city types\n",
    "\n",
    "# Incorporate the other graph properties\n",
    "\n",
    "# Create a legend\n",
    "\n",
    "# Incorporate a text label regarding circle size\n",
    "\n",
    "# Save Figure\n"
   ]
  },
  {
   "cell_type": "code",
   "execution_count": 19,
   "metadata": {},
   "outputs": [],
   "source": [
    "# Show plot\n",
    "plt.show()"
   ]
  },
  {
   "cell_type": "markdown",
   "metadata": {},
   "source": [
    "## Total Fares by City Type"
   ]
  },
  {
   "cell_type": "code",
   "execution_count": 20,
   "metadata": {},
   "outputs": [
    {
     "data": {
      "text/html": [
       "<div>\n",
       "<style scoped>\n",
       "    .dataframe tbody tr th:only-of-type {\n",
       "        vertical-align: middle;\n",
       "    }\n",
       "\n",
       "    .dataframe tbody tr th {\n",
       "        vertical-align: top;\n",
       "    }\n",
       "\n",
       "    .dataframe thead th {\n",
       "        text-align: right;\n",
       "    }\n",
       "</style>\n",
       "<table border=\"1\" class=\"dataframe\">\n",
       "  <thead>\n",
       "    <tr style=\"text-align: right;\">\n",
       "      <th></th>\n",
       "      <th>Total Spend</th>\n",
       "      <th>Percentage of Total Spend</th>\n",
       "    </tr>\n",
       "    <tr>\n",
       "      <th>type</th>\n",
       "      <th></th>\n",
       "      <th></th>\n",
       "    </tr>\n",
       "  </thead>\n",
       "  <tbody>\n",
       "    <tr>\n",
       "      <th>Rural</th>\n",
       "      <td>4327.93</td>\n",
       "      <td>6.811493</td>\n",
       "    </tr>\n",
       "    <tr>\n",
       "      <th>Suburban</th>\n",
       "      <td>19356.33</td>\n",
       "      <td>30.463872</td>\n",
       "    </tr>\n",
       "    <tr>\n",
       "      <th>Urban</th>\n",
       "      <td>39854.38</td>\n",
       "      <td>62.724635</td>\n",
       "    </tr>\n",
       "  </tbody>\n",
       "</table>\n",
       "</div>"
      ],
      "text/plain": [
       "          Total Spend  Percentage of Total Spend\n",
       "type                                            \n",
       "Rural         4327.93                   6.811493\n",
       "Suburban     19356.33                  30.463872\n",
       "Urban        39854.38                  62.724635"
      ]
     },
     "execution_count": 20,
     "metadata": {},
     "output_type": "execute_result"
    }
   ],
   "source": [
    "# Calculate Type Percents\n",
    "\n",
    "# Calculate Ride Percents\n",
    "ride_fare_df = pd.DataFrame(gigecon_df)\n",
    "ride_fare_group = ride_fare_df.groupby([\"type\"])\n",
    "ride_fare_breakdown = pd.DataFrame({\"Total Spend\":ride_fare_group[\"fare\"].sum(),\"Percentage of Total Spend\":ride_fare_group[\"fare\"].sum()/total_fare*100})\n",
    "\n",
    "ride_fare_breakdown.head()\n"
   ]
  },
  {
   "cell_type": "code",
   "execution_count": 32,
   "metadata": {},
   "outputs": [
    {
     "data": {
      "image/png": "[encoded data removed]",
      "text/plain": [
       "<Figure size 432x288 with 1 Axes>"
      ]
     },
     "metadata": {},
     "output_type": "display_data"
    }
   ],
   "source": [
    "# Build Pie Chart\n",
    "plt.pie(ride_fare_breakdown[\"Percentage of Total Spend\"], labels = ride_type_breakdown.index, colors=colors, autopct=\"%1.1f%%\", shadow=True, startangle=280)\n",
    "# Create axes which are equal so we have a perfect circle\n",
    "plt.axis(\"equal\")\n",
    "\n",
    "plt.show()\n",
    "# Save Figure"
   ]
  },
  {
   "cell_type": "markdown",
   "metadata": {},
   "source": [
    "## Total Rides by City Type"
   ]
  },
  {
   "cell_type": "code",
   "execution_count": 33,
   "metadata": {},
   "outputs": [
    {
     "data": {
      "text/html": [
       "<div>\n",
       "<style scoped>\n",
       "    .dataframe tbody tr th:only-of-type {\n",
       "        vertical-align: middle;\n",
       "    }\n",
       "\n",
       "    .dataframe tbody tr th {\n",
       "        vertical-align: top;\n",
       "    }\n",
       "\n",
       "    .dataframe thead th {\n",
       "        text-align: right;\n",
       "    }\n",
       "</style>\n",
       "<table border=\"1\" class=\"dataframe\">\n",
       "  <thead>\n",
       "    <tr style=\"text-align: right;\">\n",
       "      <th></th>\n",
       "      <th>Total Count</th>\n",
       "      <th>Percentage of Total Rides</th>\n",
       "    </tr>\n",
       "    <tr>\n",
       "      <th>type</th>\n",
       "      <th></th>\n",
       "      <th></th>\n",
       "    </tr>\n",
       "  </thead>\n",
       "  <tbody>\n",
       "    <tr>\n",
       "      <th>Rural</th>\n",
       "      <td>125</td>\n",
       "      <td>5.263158</td>\n",
       "    </tr>\n",
       "    <tr>\n",
       "      <th>Suburban</th>\n",
       "      <td>625</td>\n",
       "      <td>26.315789</td>\n",
       "    </tr>\n",
       "    <tr>\n",
       "      <th>Urban</th>\n",
       "      <td>1625</td>\n",
       "      <td>68.421053</td>\n",
       "    </tr>\n",
       "  </tbody>\n",
       "</table>\n",
       "</div>"
      ],
      "text/plain": [
       "          Total Count  Percentage of Total Rides\n",
       "type                                            \n",
       "Rural             125                   5.263158\n",
       "Suburban          625                  26.315789\n",
       "Urban            1625                  68.421053"
      ]
     },
     "execution_count": 33,
     "metadata": {},
     "output_type": "execute_result"
    }
   ],
   "source": [
    "# Calculate Ride Percents\n",
    "ride_type_df = pd.DataFrame(gigecon_df)\n",
    "ride_type_group = ride_type_df.groupby([\"type\"])\n",
    "ride_type_breakdown = pd.DataFrame({\"Total Count\":ride_type_group[\"type\"].count(),\"Percentage of Total Rides\":ride_type_group[\"type\"].count()/ride_count*100})\n",
    "\n",
    "ride_type_breakdown.head()"
   ]
  },
  {
   "cell_type": "code",
   "execution_count": 34,
   "metadata": {},
   "outputs": [
    {
     "data": {
      "image/png": "[encoded data removed]",
      "text/plain": [
       "<Figure size 432x288 with 1 Axes>"
      ]
     },
     "metadata": {},
     "output_type": "display_data"
    }
   ],
   "source": [
    "# Build Pie Chart\n",
    "plt.pie(ride_type_breakdown[\"Percentage of Total Rides\"], labels = ride_type_breakdown.index, colors=colors, autopct=\"%1.1f%%\", shadow=True, startangle=280)\n",
    "# Create axes which are equal so we have a perfect circle\n",
    "plt.axis(\"equal\")\n",
    "\n",
    "plt.show()\n",
    "# Save Figure\n"
   ]
  },
  {
   "cell_type": "code",
   "execution_count": 24,
   "metadata": {},
   "outputs": [],
   "source": [
    "# Show Figure\n",
    "plt.show()"
   ]
  },
  {
   "cell_type": "markdown",
   "metadata": {},
   "source": [
    "## Total Drivers by City Type"
   ]
  },
  {
   "cell_type": "code",
   "execution_count": 67,
   "metadata": {},
   "outputs": [
    {
     "data": {
      "text/html": [
       "<div>\n",
       "<style scoped>\n",
       "    .dataframe tbody tr th:only-of-type {\n",
       "        vertical-align: middle;\n",
       "    }\n",
       "\n",
       "    .dataframe tbody tr th {\n",
       "        vertical-align: top;\n",
       "    }\n",
       "\n",
       "    .dataframe thead th {\n",
       "        text-align: right;\n",
       "    }\n",
       "</style>\n",
       "<table border=\"1\" class=\"dataframe\">\n",
       "  <thead>\n",
       "    <tr style=\"text-align: right;\">\n",
       "      <th></th>\n",
       "      <th>driver_count</th>\n",
       "    </tr>\n",
       "  </thead>\n",
       "  <tbody>\n",
       "    <tr>\n",
       "      <th>type</th>\n",
       "      <td>NaN</td>\n",
       "    </tr>\n",
       "  </tbody>\n",
       "</table>\n",
       "</div>"
      ],
      "text/plain": [
       "      driver_count\n",
       "type           NaN"
      ]
     },
     "execution_count": 67,
     "metadata": {},
     "output_type": "execute_result"
    }
   ],
   "source": [
    "# Calculate Driver Percents\n",
    "driver_total_df = pd.DataFrame(gigecon_df, [\"type\"], [\"driver_count\"])\n",
    "driver_total_df.head()\n",
    "#driver_total_group = driver_total_df.groupby([\"type\"])\n",
    "#driver_total_group.head()\n",
    "#driver_total_breakdown = pd.DataFrame({\"Total Drivers\":ride_fare_group[\"driver_count\"].sum(),\"Percentage of Total Drivers\":ride_fare_group[\"fare\"].sum()/total_fare*100})\n",
    "\n",
    "#driver_total_breakdown.head()"
   ]
  },
  {
   "cell_type": "code",
   "execution_count": 42,
   "metadata": {},
   "outputs": [],
   "source": [
    "# Build Pie Charts\n",
    "\n",
    "# Save Figure\n"
   ]
  },
  {
   "cell_type": "code",
   "execution_count": 27,
   "metadata": {
    "scrolled": true
   },
   "outputs": [],
   "source": [
    "# Show Figure\n",
    "plt.show()"
   ]
  },
  {
   "cell_type": "code",
   "execution_count": null,
   "metadata": {},
   "outputs": [],
   "source": []
  }
 ],
 "metadata": {
  "anaconda-cloud": {},
  "kernelspec": {
   "display_name": "Python 3",
   "language": "python",
   "name": "python3"
  },
  "language_info": {
   "codemirror_mode": {
    "name": "ipython",
    "version": 3
   },
   "file_extension": ".py",
   "mimetype": "text/x-python",
   "name": "python",
   "nbconvert_exporter": "python",
   "pygments_lexer": "ipython3",
   "version": "3.6.7"
  }
 },
 "nbformat": 4,
 "nbformat_minor": 2
}
